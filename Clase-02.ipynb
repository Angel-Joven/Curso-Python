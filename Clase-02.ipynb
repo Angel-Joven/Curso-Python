{
 "cells": [
  {
   "cell_type": "markdown",
   "metadata": {},
   "source": [
    "# CLASE 02"
   ]
  },
  {
   "cell_type": "code",
   "execution_count": 14,
   "metadata": {},
   "outputs": [
    {
     "name": "stdout",
     "output_type": "stream",
     "text": [
      "El numero 5 es igual al numero 5\n"
     ]
    }
   ],
   "source": [
    "## Encontrar el numero mas grande\n",
    "\n",
    "numero_1 = int(input(\"Ingresa el primer numero \"))\n",
    "numero_2 = int(input(\"Ingresa el segundo numero \"))\n",
    "\n",
    "if numero_1 > numero_2:\n",
    "    print(f\"El numero {numero_1} es mayor que el numero {numero_2}\")\n",
    "elif numero_2 > numero_1:\n",
    "    print(f\"El numero {numero_2} es mayor que el numero {numero_1}\")\n",
    "else:\n",
    "    print(f\"El numero {numero_1} es igual al numero {numero_2}\")\n",
    "\n"
   ]
  },
  {
   "cell_type": "markdown",
   "metadata": {},
   "source": [
    "Determinar el pago semanal de un trabajador, solicitando su sueldo x hora y horas trabajadas con base en la siguiente relación:\n",
    "\n",
    "Si trabajó entre 1 y 39 horas, se le paga su sueldo de hora normal\n",
    "\n",
    "Si trabajó entre 40 y 49 horas, se le pagan 39 normal y las demas al doble\n",
    "\n",
    "Si trabajó 50 o más, se le pagan 39 hora normal, 10 horas dobles y las demas al triple"
   ]
  },
  {
   "cell_type": "code",
   "execution_count": 18,
   "metadata": {},
   "outputs": [
    {
     "name": "stdout",
     "output_type": "stream",
     "text": [
      "El trabajador va a recibir $740\n"
     ]
    }
   ],
   "source": [
    "cantidad_horas = int(input(\"Horas trabajadas: \"))\n",
    "sueldo = int(input(\"Sueldo: \"))\n",
    "\n",
    "if cantidad_horas >= 50:\n",
    "    horas = (cantidad_horas - 50) * 3 + 20 + 39\n",
    "elif cantidad_horas >= 40:\n",
    "    horas = (cantidad_horas - 40) * 2 + 39\n",
    "else:\n",
    "    horas = cantidad_horas\n",
    "\n",
    "pago = horas * sueldo\n",
    "\n",
    "print(f\"El trabajador va a recibir ${pago}\")"
   ]
  },
  {
   "cell_type": "markdown",
   "metadata": {},
   "source": [
    "## Listas"
   ]
  },
  {
   "cell_type": "code",
   "execution_count": 55,
   "metadata": {},
   "outputs": [
    {
     "name": "stdout",
     "output_type": "stream",
     "text": [
      "['Manzana', 'Pera', 'Uvas']\n"
     ]
    }
   ],
   "source": [
    "mis_frutas = [\"Manzana\", \"Pera\", \"Uvas\"]\n",
    "\n",
    "print(mis_frutas)"
   ]
  },
  {
   "cell_type": "code",
   "execution_count": 56,
   "metadata": {},
   "outputs": [
    {
     "name": "stdout",
     "output_type": "stream",
     "text": [
      "Manzana\n"
     ]
    }
   ],
   "source": [
    "print(mis_frutas[0])"
   ]
  },
  {
   "cell_type": "markdown",
   "metadata": {},
   "source": [
    "## Metodos de listas"
   ]
  },
  {
   "cell_type": "markdown",
   "metadata": {},
   "source": [
    "# append()\n",
    "\n",
    "Agrega elementos al final de nuestra lista"
   ]
  },
  {
   "cell_type": "markdown",
   "metadata": {},
   "source": [
    "# slice\n",
    "\n",
    "Corta la lista y obtiene los elementos de ese corte. Tambien funciona para strings"
   ]
  },
  {
   "cell_type": "markdown",
   "metadata": {},
   "source": [
    "# sort()\n",
    "\n",
    "Ordena todos los elementos numericos de una lista"
   ]
  },
  {
   "cell_type": "markdown",
   "metadata": {},
   "source": [
    "# count()\n",
    "\n",
    "Cuenta las veces que hay un elemento en la lista"
   ]
  },
  {
   "cell_type": "code",
   "execution_count": 61,
   "metadata": {},
   "outputs": [
    {
     "name": "stdout",
     "output_type": "stream",
     "text": [
      "['Manzana', 'Pera', 'Uvas', 'Naranja', 'Naranja', 'Naranja', 'Naranja', 'Naranja']\n"
     ]
    }
   ],
   "source": [
    "mis_frutas.append(\"Naranja\")\n",
    "print(mis_frutas)"
   ]
  },
  {
   "cell_type": "code",
   "execution_count": 46,
   "metadata": {},
   "outputs": [
    {
     "data": {
      "text/plain": [
       "['Manzana', 'Pera']"
      ]
     },
     "execution_count": 46,
     "metadata": {},
     "output_type": "execute_result"
    }
   ],
   "source": [
    "mis_frutas[0:2] #Obtiene el elemento 0 a 2 de nuestra lista"
   ]
  },
  {
   "cell_type": "code",
   "execution_count": 47,
   "metadata": {},
   "outputs": [
    {
     "data": {
      "text/plain": [
       "'Wick'"
      ]
     },
     "execution_count": 47,
     "metadata": {},
     "output_type": "execute_result"
    }
   ],
   "source": [
    "palabra = \"John Wick\"\n",
    "palabra[0:4] #John\n",
    "\n",
    "palabra[5:9] #Wick"
   ]
  },
  {
   "cell_type": "code",
   "execution_count": 48,
   "metadata": {},
   "outputs": [
    {
     "data": {
      "text/plain": [
       "'Naranja'"
      ]
     },
     "execution_count": 48,
     "metadata": {},
     "output_type": "execute_result"
    }
   ],
   "source": [
    "mis_frutas[-1] #Obtener el ultimo elemento de la lista"
   ]
  },
  {
   "cell_type": "code",
   "execution_count": 52,
   "metadata": {},
   "outputs": [
    {
     "name": "stdout",
     "output_type": "stream",
     "text": [
      "[1, 2, 3, 4, 5, 6, 7, 10, 15, 20]\n"
     ]
    }
   ],
   "source": [
    "mis_numeros = [2, 4, 20, 1, 5, 3, 6, 10, 7, 15]\n",
    "\n",
    "mis_numeros.sort() #Ordenado de forma ascendente\n",
    "print(mis_numeros)"
   ]
  },
  {
   "cell_type": "code",
   "execution_count": 54,
   "metadata": {},
   "outputs": [
    {
     "name": "stdout",
     "output_type": "stream",
     "text": [
      "[20, 15, 10, 7, 6, 5, 4, 3, 2, 1]\n"
     ]
    }
   ],
   "source": [
    "mis_numeros.sort(reverse=True) #Ordenado de forma descendente (mis_numeros.reverse() igual funciona)\n",
    "print(mis_numeros)"
   ]
  },
  {
   "cell_type": "code",
   "execution_count": 65,
   "metadata": {},
   "outputs": [
    {
     "data": {
      "text/plain": [
       "1"
      ]
     },
     "execution_count": 65,
     "metadata": {},
     "output_type": "execute_result"
    }
   ],
   "source": [
    "mis_numeros.count(10) #Cuantas veces hay un 10 en la lista"
   ]
  },
  {
   "cell_type": "markdown",
   "metadata": {},
   "source": [
    "# Funciones para lista"
   ]
  },
  {
   "cell_type": "markdown",
   "metadata": {},
   "source": [
    "# sum()\n",
    "\n",
    "Suma todos los elementos de una lista"
   ]
  },
  {
   "cell_type": "code",
   "execution_count": 66,
   "metadata": {},
   "outputs": [
    {
     "data": {
      "text/plain": [
       "73"
      ]
     },
     "execution_count": 66,
     "metadata": {},
     "output_type": "execute_result"
    }
   ],
   "source": [
    "sum(mis_numeros)"
   ]
  },
  {
   "cell_type": "markdown",
   "metadata": {},
   "source": [
    "# Formula matematica (Latex) del promedio\n",
    "$$\\frac{1}{2}\\sum{i}^{n} x_i$$\n"
   ]
  },
  {
   "cell_type": "code",
   "execution_count": 71,
   "metadata": {},
   "outputs": [
    {
     "name": "stdout",
     "output_type": "stream",
     "text": [
      "7.3\n"
     ]
    }
   ],
   "source": [
    "promedio = sum(mis_numeros)/10 #Valor estatico\n",
    "print(promedio)"
   ]
  },
  {
   "cell_type": "markdown",
   "metadata": {},
   "source": [
    "# len()\n",
    "\n",
    "Saca la cantidad de elementos de una lista"
   ]
  },
  {
   "cell_type": "code",
   "execution_count": 69,
   "metadata": {},
   "outputs": [
    {
     "data": {
      "text/plain": [
       "10"
      ]
     },
     "execution_count": 69,
     "metadata": {},
     "output_type": "execute_result"
    }
   ],
   "source": [
    "len(mis_numeros)"
   ]
  },
  {
   "cell_type": "code",
   "execution_count": 72,
   "metadata": {},
   "outputs": [
    {
     "name": "stdout",
     "output_type": "stream",
     "text": [
      "7.3\n"
     ]
    }
   ],
   "source": [
    "promedio = sum(mis_numeros)/len(mis_numeros) #Valor dinamico\n",
    "print(promedio)"
   ]
  },
  {
   "cell_type": "markdown",
   "metadata": {},
   "source": [
    "# min() - max()\n",
    "\n",
    "Obtiene el valor minimo o maximo de una cadena o lista"
   ]
  },
  {
   "cell_type": "code",
   "execution_count": 73,
   "metadata": {},
   "outputs": [
    {
     "name": "stdout",
     "output_type": "stream",
     "text": [
      "1\n",
      "20\n"
     ]
    }
   ],
   "source": [
    "print(min(mis_numeros))\n",
    "print(max(mis_numeros))"
   ]
  }
 ],
 "metadata": {
  "kernelspec": {
   "display_name": "Python 3.10.2 64-bit",
   "language": "python",
   "name": "python3"
  },
  "language_info": {
   "codemirror_mode": {
    "name": "ipython",
    "version": 3
   },
   "file_extension": ".py",
   "mimetype": "text/x-python",
   "name": "python",
   "nbconvert_exporter": "python",
   "pygments_lexer": "ipython3",
   "version": "3.10.2"
  },
  "orig_nbformat": 4,
  "vscode": {
   "interpreter": {
    "hash": "df95319d8ce4e1d89f5365ae10992bc1f65da593082b1d264e8f529830ec2f02"
   }
  }
 },
 "nbformat": 4,
 "nbformat_minor": 2
}
